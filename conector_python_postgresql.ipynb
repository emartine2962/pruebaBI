{
 "cells": [
  {
   "cell_type": "code",
   "execution_count": 29,
   "metadata": {},
   "outputs": [],
   "source": [
    "import psycopg2\n",
    "import os\n",
    "import csv\n",
    "\n",
    "# variables\n",
    "path = 'C:\\\\Users\\edgra\\Desktop\\data-tx.csv'\n",
    "z = 0\n",
    "\n",
    "# lee el archivo\n",
    "file = open(path)\n",
    "data = csv.reader(file)\n",
    "\n",
    "# conexión a postgresql\n",
    "connection = psycopg2.connect(user=\"postgres\",\n",
    "                                  password=\"edgar1234\",\n",
    "                                  host=\"localhost\",\n",
    "                                  port=\"5432\",\n",
    "                                  database=\"postgres\")\n",
    "cur = connection.cursor()\n",
    "\n",
    "# script\n",
    "for x in data:\n",
    "    if 'customerId' not in x:\n",
    "        query = ('INSERT INTO public.data VALUES (' + str(x).strip('[]') + ');')\n",
    "        cur.execute(query)\n",
    "connection.commit()"
   ]
  },
  {
   "cell_type": "code",
   "execution_count": null,
   "metadata": {},
   "outputs": [],
   "source": [
    "\n",
    "cur.execute(\"SELECT now()\")\n",
    "query =  \n",
    "print(query)"
   ]
  }
 ],
 "metadata": {
  "kernelspec": {
   "display_name": "Python 3",
   "language": "python",
   "name": "python3"
  },
  "language_info": {
   "codemirror_mode": {
    "name": "ipython",
    "version": 3
   },
   "file_extension": ".py",
   "mimetype": "text/x-python",
   "name": "python",
   "nbconvert_exporter": "python",
   "pygments_lexer": "ipython3",
   "version": "3.8.3"
  }
 },
 "nbformat": 4,
 "nbformat_minor": 4
}
